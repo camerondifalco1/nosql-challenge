{
 "cells": [
  {
   "cell_type": "markdown",
   "id": "9a57c4c6",
   "metadata": {},
   "source": [
    "# Eat Safe, Love"
   ]
  },
  {
   "cell_type": "markdown",
   "id": "064ef857",
   "metadata": {},
   "source": [
    "## Notebook Set Up"
   ]
  },
  {
   "cell_type": "code",
   "execution_count": 1,
   "id": "3ecdd008",
   "metadata": {},
   "outputs": [],
   "source": [
    "# Import dependencies\n",
    "import json\n",
    "import pandas as pd\n",
    "from pymongo import MongoClient\n",
    "from pprint import pprint"
   ]
  },
  {
   "cell_type": "code",
   "execution_count": 2,
   "id": "59390c4a",
   "metadata": {},
   "outputs": [
    {
     "ename": "ServerSelectionTimeoutError",
     "evalue": "localhost:27017: [WinError 10061] No connection could be made because the target machine actively refused it, Timeout: 30s, Topology Description: <TopologyDescription id: 64edc4dafe3099ddcc89a24a, topology_type: Unknown, servers: [<ServerDescription ('localhost', 27017) server_type: Unknown, rtt: None, error=AutoReconnect('localhost:27017: [WinError 10061] No connection could be made because the target machine actively refused it')>]>",
     "output_type": "error",
     "traceback": [
      "\u001b[1;31m---------------------------------------------------------------------------\u001b[0m",
      "\u001b[1;31mServerSelectionTimeoutError\u001b[0m               Traceback (most recent call last)",
      "Cell \u001b[1;32mIn[2], line 4\u001b[0m\n\u001b[0;32m      1\u001b[0m \u001b[39m# Create an instance of MongoClient\u001b[39;00m\n\u001b[0;32m      2\u001b[0m \u001b[39m# MongoDB server\u001b[39;00m\n\u001b[0;32m      3\u001b[0m client \u001b[39m=\u001b[39m MongoClient(\u001b[39m\"\u001b[39m\u001b[39mlocalhost\u001b[39m\u001b[39m\"\u001b[39m, \u001b[39m27017\u001b[39m)\n\u001b[1;32m----> 4\u001b[0m databases \u001b[39m=\u001b[39m client\u001b[39m.\u001b[39;49mlist_database_names()\n\u001b[0;32m      6\u001b[0m \u001b[39m# Access the \"uk_food\" database\u001b[39;00m\n\u001b[0;32m      7\u001b[0m db \u001b[39m=\u001b[39m client[\u001b[39m\"\u001b[39m\u001b[39muk_food\u001b[39m\u001b[39m\"\u001b[39m]\n",
      "File \u001b[1;32m~\\AppData\\Roaming\\Python\\Python310\\site-packages\\pymongo\\mongo_client.py:1997\u001b[0m, in \u001b[0;36mMongoClient.list_database_names\u001b[1;34m(self, session, comment)\u001b[0m\n\u001b[0;32m   1979\u001b[0m \u001b[39mdef\u001b[39;00m \u001b[39mlist_database_names\u001b[39m(\n\u001b[0;32m   1980\u001b[0m     \u001b[39mself\u001b[39m,\n\u001b[0;32m   1981\u001b[0m     session: Optional[client_session\u001b[39m.\u001b[39mClientSession] \u001b[39m=\u001b[39m \u001b[39mNone\u001b[39;00m,\n\u001b[0;32m   1982\u001b[0m     comment: Optional[Any] \u001b[39m=\u001b[39m \u001b[39mNone\u001b[39;00m,\n\u001b[0;32m   1983\u001b[0m ) \u001b[39m-\u001b[39m\u001b[39m>\u001b[39m List[\u001b[39mstr\u001b[39m]:\n\u001b[0;32m   1984\u001b[0m     \u001b[39m\"\"\"Get a list of the names of all databases on the connected server.\u001b[39;00m\n\u001b[0;32m   1985\u001b[0m \n\u001b[0;32m   1986\u001b[0m \u001b[39m    :Parameters:\u001b[39;00m\n\u001b[1;32m   (...)\u001b[0m\n\u001b[0;32m   1995\u001b[0m \u001b[39m    .. versionadded:: 3.6\u001b[39;00m\n\u001b[0;32m   1996\u001b[0m \u001b[39m    \"\"\"\u001b[39;00m\n\u001b[1;32m-> 1997\u001b[0m     \u001b[39mreturn\u001b[39;00m [doc[\u001b[39m\"\u001b[39m\u001b[39mname\u001b[39m\u001b[39m\"\u001b[39m] \u001b[39mfor\u001b[39;00m doc \u001b[39min\u001b[39;00m \u001b[39mself\u001b[39;49m\u001b[39m.\u001b[39;49mlist_databases(session, nameOnly\u001b[39m=\u001b[39;49m\u001b[39mTrue\u001b[39;49;00m, comment\u001b[39m=\u001b[39;49mcomment)]\n",
      "File \u001b[1;32m~\\AppData\\Roaming\\Python\\Python310\\site-packages\\pymongo\\mongo_client.py:1970\u001b[0m, in \u001b[0;36mMongoClient.list_databases\u001b[1;34m(self, session, comment, **kwargs)\u001b[0m\n\u001b[0;32m   1968\u001b[0m     cmd[\u001b[39m\"\u001b[39m\u001b[39mcomment\u001b[39m\u001b[39m\"\u001b[39m] \u001b[39m=\u001b[39m comment\n\u001b[0;32m   1969\u001b[0m admin \u001b[39m=\u001b[39m \u001b[39mself\u001b[39m\u001b[39m.\u001b[39m_database_default_options(\u001b[39m\"\u001b[39m\u001b[39madmin\u001b[39m\u001b[39m\"\u001b[39m)\n\u001b[1;32m-> 1970\u001b[0m res \u001b[39m=\u001b[39m admin\u001b[39m.\u001b[39;49m_retryable_read_command(cmd, session\u001b[39m=\u001b[39;49msession)\n\u001b[0;32m   1971\u001b[0m \u001b[39m# listDatabases doesn't return a cursor (yet). Fake one.\u001b[39;00m\n\u001b[0;32m   1972\u001b[0m cursor \u001b[39m=\u001b[39m {\n\u001b[0;32m   1973\u001b[0m     \u001b[39m\"\u001b[39m\u001b[39mid\u001b[39m\u001b[39m\"\u001b[39m: \u001b[39m0\u001b[39m,\n\u001b[0;32m   1974\u001b[0m     \u001b[39m\"\u001b[39m\u001b[39mfirstBatch\u001b[39m\u001b[39m\"\u001b[39m: res[\u001b[39m\"\u001b[39m\u001b[39mdatabases\u001b[39m\u001b[39m\"\u001b[39m],\n\u001b[0;32m   1975\u001b[0m     \u001b[39m\"\u001b[39m\u001b[39mns\u001b[39m\u001b[39m\"\u001b[39m: \u001b[39m\"\u001b[39m\u001b[39madmin.$cmd\u001b[39m\u001b[39m\"\u001b[39m,\n\u001b[0;32m   1976\u001b[0m }\n",
      "File \u001b[1;32m~\\AppData\\Roaming\\Python\\Python310\\site-packages\\pymongo\\database.py:1028\u001b[0m, in \u001b[0;36mDatabase._retryable_read_command\u001b[1;34m(self, command, session)\u001b[0m\n\u001b[0;32m   1015\u001b[0m \u001b[39mdef\u001b[39;00m \u001b[39m_cmd\u001b[39m(\n\u001b[0;32m   1016\u001b[0m     session: Optional[ClientSession],\n\u001b[0;32m   1017\u001b[0m     server: Server,\n\u001b[0;32m   1018\u001b[0m     conn: Connection,\n\u001b[0;32m   1019\u001b[0m     read_preference: _ServerMode,\n\u001b[0;32m   1020\u001b[0m ) \u001b[39m-\u001b[39m\u001b[39m>\u001b[39m Dict[\u001b[39mstr\u001b[39m, Any]:\n\u001b[0;32m   1021\u001b[0m     \u001b[39mreturn\u001b[39;00m \u001b[39mself\u001b[39m\u001b[39m.\u001b[39m_command(\n\u001b[0;32m   1022\u001b[0m         conn,\n\u001b[0;32m   1023\u001b[0m         command,\n\u001b[0;32m   1024\u001b[0m         read_preference\u001b[39m=\u001b[39mread_preference,\n\u001b[0;32m   1025\u001b[0m         session\u001b[39m=\u001b[39msession,\n\u001b[0;32m   1026\u001b[0m     )\n\u001b[1;32m-> 1028\u001b[0m \u001b[39mreturn\u001b[39;00m \u001b[39mself\u001b[39;49m\u001b[39m.\u001b[39;49m__client\u001b[39m.\u001b[39;49m_retryable_read(_cmd, read_preference, session)\n",
      "File \u001b[1;32m~\\AppData\\Roaming\\Python\\Python310\\site-packages\\pymongo\\_csot.py:108\u001b[0m, in \u001b[0;36mapply.<locals>.csot_wrapper\u001b[1;34m(self, *args, **kwargs)\u001b[0m\n\u001b[0;32m    106\u001b[0m         \u001b[39mwith\u001b[39;00m _TimeoutContext(timeout):\n\u001b[0;32m    107\u001b[0m             \u001b[39mreturn\u001b[39;00m func(\u001b[39mself\u001b[39m, \u001b[39m*\u001b[39margs, \u001b[39m*\u001b[39m\u001b[39m*\u001b[39mkwargs)\n\u001b[1;32m--> 108\u001b[0m \u001b[39mreturn\u001b[39;00m func(\u001b[39mself\u001b[39m, \u001b[39m*\u001b[39margs, \u001b[39m*\u001b[39m\u001b[39m*\u001b[39mkwargs)\n",
      "File \u001b[1;32m~\\AppData\\Roaming\\Python\\Python310\\site-packages\\pymongo\\mongo_client.py:1525\u001b[0m, in \u001b[0;36mMongoClient._retryable_read\u001b[1;34m(self, func, read_pref, session, address, retryable)\u001b[0m\n\u001b[0;32m   1523\u001b[0m         \u001b[39mraise\u001b[39;00m last_error\n\u001b[0;32m   1524\u001b[0m \u001b[39mtry\u001b[39;00m:\n\u001b[1;32m-> 1525\u001b[0m     server \u001b[39m=\u001b[39m \u001b[39mself\u001b[39;49m\u001b[39m.\u001b[39;49m_select_server(read_pref, session, address\u001b[39m=\u001b[39;49maddress)\n\u001b[0;32m   1526\u001b[0m     \u001b[39mwith\u001b[39;00m \u001b[39mself\u001b[39m\u001b[39m.\u001b[39m_conn_from_server(read_pref, server, session) \u001b[39mas\u001b[39;00m (\n\u001b[0;32m   1527\u001b[0m         conn,\n\u001b[0;32m   1528\u001b[0m         read_pref,\n\u001b[0;32m   1529\u001b[0m     ):\n\u001b[0;32m   1530\u001b[0m         \u001b[39mif\u001b[39;00m retrying \u001b[39mand\u001b[39;00m \u001b[39mnot\u001b[39;00m retryable:\n\u001b[0;32m   1531\u001b[0m             \u001b[39m# A retry is not possible because this server does\u001b[39;00m\n\u001b[0;32m   1532\u001b[0m             \u001b[39m# not support retryable reads, raise the last error.\u001b[39;00m\n",
      "File \u001b[1;32m~\\AppData\\Roaming\\Python\\Python310\\site-packages\\pymongo\\mongo_client.py:1297\u001b[0m, in \u001b[0;36mMongoClient._select_server\u001b[1;34m(self, server_selector, session, address)\u001b[0m\n\u001b[0;32m   1295\u001b[0m             \u001b[39mraise\u001b[39;00m AutoReconnect(\u001b[39m\"\u001b[39m\u001b[39mserver \u001b[39m\u001b[39m%s\u001b[39;00m\u001b[39m:\u001b[39m\u001b[39m%s\u001b[39;00m\u001b[39m no longer available\u001b[39m\u001b[39m\"\u001b[39m \u001b[39m%\u001b[39m address)\n\u001b[0;32m   1296\u001b[0m     \u001b[39melse\u001b[39;00m:\n\u001b[1;32m-> 1297\u001b[0m         server \u001b[39m=\u001b[39m topology\u001b[39m.\u001b[39;49mselect_server(server_selector)\n\u001b[0;32m   1298\u001b[0m     \u001b[39mreturn\u001b[39;00m server\n\u001b[0;32m   1299\u001b[0m \u001b[39mexcept\u001b[39;00m PyMongoError \u001b[39mas\u001b[39;00m exc:\n\u001b[0;32m   1300\u001b[0m     \u001b[39m# Server selection errors in a transaction are transient.\u001b[39;00m\n",
      "File \u001b[1;32m~\\AppData\\Roaming\\Python\\Python310\\site-packages\\pymongo\\topology.py:312\u001b[0m, in \u001b[0;36mTopology.select_server\u001b[1;34m(self, selector, server_selection_timeout, address)\u001b[0m\n\u001b[0;32m    305\u001b[0m \u001b[39mdef\u001b[39;00m \u001b[39mselect_server\u001b[39m(\n\u001b[0;32m    306\u001b[0m     \u001b[39mself\u001b[39m,\n\u001b[0;32m    307\u001b[0m     selector: Callable[[Selection], Selection],\n\u001b[0;32m    308\u001b[0m     server_selection_timeout: Optional[\u001b[39mfloat\u001b[39m] \u001b[39m=\u001b[39m \u001b[39mNone\u001b[39;00m,\n\u001b[0;32m    309\u001b[0m     address: Optional[_Address] \u001b[39m=\u001b[39m \u001b[39mNone\u001b[39;00m,\n\u001b[0;32m    310\u001b[0m ) \u001b[39m-\u001b[39m\u001b[39m>\u001b[39m Server:\n\u001b[0;32m    311\u001b[0m     \u001b[39m\"\"\"Like select_servers, but choose a random server if several match.\"\"\"\u001b[39;00m\n\u001b[1;32m--> 312\u001b[0m     server \u001b[39m=\u001b[39m \u001b[39mself\u001b[39;49m\u001b[39m.\u001b[39;49m_select_server(selector, server_selection_timeout, address)\n\u001b[0;32m    313\u001b[0m     \u001b[39mif\u001b[39;00m _csot\u001b[39m.\u001b[39mget_timeout():\n\u001b[0;32m    314\u001b[0m         _csot\u001b[39m.\u001b[39mset_rtt(server\u001b[39m.\u001b[39mdescription\u001b[39m.\u001b[39mmin_round_trip_time)\n",
      "File \u001b[1;32m~\\AppData\\Roaming\\Python\\Python310\\site-packages\\pymongo\\topology.py:296\u001b[0m, in \u001b[0;36mTopology._select_server\u001b[1;34m(self, selector, server_selection_timeout, address)\u001b[0m\n\u001b[0;32m    290\u001b[0m \u001b[39mdef\u001b[39;00m \u001b[39m_select_server\u001b[39m(\n\u001b[0;32m    291\u001b[0m     \u001b[39mself\u001b[39m,\n\u001b[0;32m    292\u001b[0m     selector: Callable[[Selection], Selection],\n\u001b[0;32m    293\u001b[0m     server_selection_timeout: Optional[\u001b[39mfloat\u001b[39m] \u001b[39m=\u001b[39m \u001b[39mNone\u001b[39;00m,\n\u001b[0;32m    294\u001b[0m     address: Optional[_Address] \u001b[39m=\u001b[39m \u001b[39mNone\u001b[39;00m,\n\u001b[0;32m    295\u001b[0m ) \u001b[39m-\u001b[39m\u001b[39m>\u001b[39m Server:\n\u001b[1;32m--> 296\u001b[0m     servers \u001b[39m=\u001b[39m \u001b[39mself\u001b[39;49m\u001b[39m.\u001b[39;49mselect_servers(selector, server_selection_timeout, address)\n\u001b[0;32m    297\u001b[0m     \u001b[39mif\u001b[39;00m \u001b[39mlen\u001b[39m(servers) \u001b[39m==\u001b[39m \u001b[39m1\u001b[39m:\n\u001b[0;32m    298\u001b[0m         \u001b[39mreturn\u001b[39;00m servers[\u001b[39m0\u001b[39m]\n",
      "File \u001b[1;32m~\\AppData\\Roaming\\Python\\Python310\\site-packages\\pymongo\\topology.py:247\u001b[0m, in \u001b[0;36mTopology.select_servers\u001b[1;34m(self, selector, server_selection_timeout, address)\u001b[0m\n\u001b[0;32m    244\u001b[0m     server_timeout \u001b[39m=\u001b[39m server_selection_timeout\n\u001b[0;32m    246\u001b[0m \u001b[39mwith\u001b[39;00m \u001b[39mself\u001b[39m\u001b[39m.\u001b[39m_lock:\n\u001b[1;32m--> 247\u001b[0m     server_descriptions \u001b[39m=\u001b[39m \u001b[39mself\u001b[39;49m\u001b[39m.\u001b[39;49m_select_servers_loop(selector, server_timeout, address)\n\u001b[0;32m    249\u001b[0m     \u001b[39mreturn\u001b[39;00m [\n\u001b[0;32m    250\u001b[0m         cast(Server, \u001b[39mself\u001b[39m\u001b[39m.\u001b[39mget_server_by_address(sd\u001b[39m.\u001b[39maddress)) \u001b[39mfor\u001b[39;00m sd \u001b[39min\u001b[39;00m server_descriptions\n\u001b[0;32m    251\u001b[0m     ]\n",
      "File \u001b[1;32m~\\AppData\\Roaming\\Python\\Python310\\site-packages\\pymongo\\topology.py:269\u001b[0m, in \u001b[0;36mTopology._select_servers_loop\u001b[1;34m(self, selector, timeout, address)\u001b[0m\n\u001b[0;32m    266\u001b[0m \u001b[39mwhile\u001b[39;00m \u001b[39mnot\u001b[39;00m server_descriptions:\n\u001b[0;32m    267\u001b[0m     \u001b[39m# No suitable servers.\u001b[39;00m\n\u001b[0;32m    268\u001b[0m     \u001b[39mif\u001b[39;00m timeout \u001b[39m==\u001b[39m \u001b[39m0\u001b[39m \u001b[39mor\u001b[39;00m now \u001b[39m>\u001b[39m end_time:\n\u001b[1;32m--> 269\u001b[0m         \u001b[39mraise\u001b[39;00m ServerSelectionTimeoutError(\n\u001b[0;32m    270\u001b[0m             \u001b[39mf\u001b[39m\u001b[39m\"\u001b[39m\u001b[39m{\u001b[39;00m\u001b[39mself\u001b[39m\u001b[39m.\u001b[39m_error_message(selector)\u001b[39m}\u001b[39;00m\u001b[39m, Timeout: \u001b[39m\u001b[39m{\u001b[39;00mtimeout\u001b[39m}\u001b[39;00m\u001b[39ms, Topology Description: \u001b[39m\u001b[39m{\u001b[39;00m\u001b[39mself\u001b[39m\u001b[39m.\u001b[39mdescription\u001b[39m!r}\u001b[39;00m\u001b[39m\"\u001b[39m\n\u001b[0;32m    271\u001b[0m         )\n\u001b[0;32m    273\u001b[0m     \u001b[39mself\u001b[39m\u001b[39m.\u001b[39m_ensure_opened()\n\u001b[0;32m    274\u001b[0m     \u001b[39mself\u001b[39m\u001b[39m.\u001b[39m_request_check_all()\n",
      "\u001b[1;31mServerSelectionTimeoutError\u001b[0m: localhost:27017: [WinError 10061] No connection could be made because the target machine actively refused it, Timeout: 30s, Topology Description: <TopologyDescription id: 64edc4dafe3099ddcc89a24a, topology_type: Unknown, servers: [<ServerDescription ('localhost', 27017) server_type: Unknown, rtt: None, error=AutoReconnect('localhost:27017: [WinError 10061] No connection could be made because the target machine actively refused it')>]>"
     ]
    }
   ],
   "source": [
    "# Create an instance of MongoClient\n",
    "# MongoDB server\n",
    "client = MongoClient(\"localhost\", 27017)\n",
    "databases = client.list_database_names()\n",
    "\n",
    "# Access the \"uk_food\" database\n",
    "db = client[\"uk_food\"]\n",
    "\n",
    "# Access the \"establishments\" collection\n",
    "collection = db[\"establishments\"]\n",
    "\n",
    "# Load the data from the \"establishments.json\" file\n",
    "with open(\"Resources/establishments.json\", \"r\", encoding=\"utf-8\") as f:\n",
    "    data = json.load(f)\n",
    "\n",
    "# Insert the data into the \"establishments\" collection\n",
    "collection.insert_many(data)"
   ]
  },
  {
   "cell_type": "code",
   "execution_count": null,
   "id": "71e373c1",
   "metadata": {},
   "outputs": [],
   "source": [
    "# assign the uk_food database to a variable name\n",
    "db = client[\"uk_food\"]"
   ]
  },
  {
   "cell_type": "code",
   "execution_count": null,
   "id": "18ab463c",
   "metadata": {},
   "outputs": [],
   "source": [
    "# review the collections in our database\n",
    "collections = db.list_collection_names()\n",
    "\n",
    "# Print the list of collections\n",
    "print(collections)"
   ]
  },
  {
   "cell_type": "code",
   "execution_count": null,
   "id": "11c9f11b",
   "metadata": {},
   "outputs": [],
   "source": [
    "# assign the collection to a variable\n",
    "collection = db[\"establishments\"]"
   ]
  },
  {
   "cell_type": "markdown",
   "id": "d5671434",
   "metadata": {},
   "source": [
    "## Part 3: Exploratory Analysis\n",
    "Unless otherwise stated, for each question: \n",
    "* Use `count_documents` to display the number of documents contained in the result.\n",
    "* Display the first document in the results using `pprint`.\n",
    "* Convert the result to a Pandas DataFrame, print the number of rows in the DataFrame, and display the first 10 rows."
   ]
  },
  {
   "cell_type": "markdown",
   "id": "314bd884",
   "metadata": {},
   "source": [
    "### 1. Which establishments have a hygiene score equal to 20?"
   ]
  },
  {
   "cell_type": "code",
   "execution_count": null,
   "id": "c2da7648",
   "metadata": {},
   "outputs": [],
   "source": [
    "# Find the establishments with a hygiene score of 20\n",
    "query = {\"hygiene\": 20}\n",
    "\n",
    "# Use count_documents to display the number of documents in the result\n",
    "count = collection.count_documents(query)\n",
    "print(f\"Number of documents: {count}\")\n",
    "\n",
    "# Display the first document in the results using pprint\n",
    "result = collection.find_one(query)\n",
    "print(result)"
   ]
  },
  {
   "cell_type": "code",
   "execution_count": null,
   "id": "a6e5cece",
   "metadata": {},
   "outputs": [],
   "source": [
    "# Convert the result to a Pandas DataFrame\n",
    "df = pd.DataFrame(list(collection.find(query)))\n",
    "\n",
    "# Display the number of rows in the DataFrame\n",
    "print(f\"Number of rows: {len(df)}\")\n",
    "\n",
    "# Display the first 10 rows of the DataFrame\n",
    "print(df.head(10))"
   ]
  },
  {
   "cell_type": "markdown",
   "id": "0ef4395a",
   "metadata": {},
   "source": [
    "### 2. Which establishments in London have a `RatingValue` greater than or equal to 4?"
   ]
  },
  {
   "cell_type": "code",
   "execution_count": null,
   "id": "93c63829",
   "metadata": {},
   "outputs": [],
   "source": [
    "# Find the establishments with London as the Local Authority and has a RatingValue greater than or equal to 4.\n",
    "query = {\"LocalAuthorityName\": \"London\", \"RatingValue\": {\"$gte\": 4}}\n",
    "\n",
    "# Use count_documents to display the number of documents in the result\n",
    "count = collection.count_documents(query)\n",
    "print(f\"Number of documents: {count}\")\n",
    "\n",
    "# Display the first document in the results using pprint\n",
    "result = collection.find_one(query)\n",
    "print(result)"
   ]
  },
  {
   "cell_type": "code",
   "execution_count": null,
   "id": "07e24ccb",
   "metadata": {},
   "outputs": [],
   "source": [
    "# Convert the result to a Pandas DataFrame\n",
    "df = pd.DataFrame(list(collection.find(query)))\n",
    "\n",
    "# Display the number of rows in the DataFrame\n",
    "print(f\"Number of rows: {len(df)}\")\n",
    "\n",
    "# Display the first 10 rows of the DataFrame\n",
    "print(df.head(10))"
   ]
  },
  {
   "cell_type": "markdown",
   "id": "4e570caf",
   "metadata": {},
   "source": [
    "### 3. What are the top 5 establishments with a `RatingValue` rating value of '5', sorted by lowest hygiene score, nearest to the new restaurant added, \"Penang Flavours\"?"
   ]
  },
  {
   "cell_type": "code",
   "execution_count": null,
   "id": "7f599f3d",
   "metadata": {},
   "outputs": [],
   "source": [
    "# Search within 0.01 degree on either side of the latitude and longitude.\n",
    "# Rating value must equal 5\n",
    "# Sort by hygiene score\n",
    "\n",
    "degree_search = 0.01\n",
    "latitude = 51.083812\n",
    "longitude = 1.195625\n",
    "\n",
    "query = {\n",
    "    \"Latitude\": {\"$gte\": latitude - degree_search, \"$lte\": latitude + degree_search},\n",
    "    \"Longitude\": {\"$gte\": longitude - degree_search, \"$lte\": longitude + degree_search},\n",
    "    \"RatingValue\": 5\n",
    "}\n",
    "sort = [(\"hygiene\", 1)]\n",
    "\n",
    "# Print the results\n",
    "results = collection.find(query).sort(sort).limit(5)\n",
    "for result in results:\n",
    "    print(result)"
   ]
  },
  {
   "cell_type": "code",
   "execution_count": null,
   "id": "a6ad16f7",
   "metadata": {},
   "outputs": [],
   "source": [
    "# Convert result to Pandas DataFrame\n",
    "df = pd.DataFrame(list(collection.find(query).sort(sort).limit(5)))\n",
    "\n",
    "# Display the number of rows in the DataFrame\n",
    "print(f\"Number of rows: {len(df)}\")\n",
    "\n",
    "# Display the first 10 rows of the DataFrame\n",
    "print(df.head(10))"
   ]
  },
  {
   "cell_type": "markdown",
   "id": "67281254",
   "metadata": {},
   "source": [
    "### 4. How many establishments in each Local Authority area have a hygiene score of 0?"
   ]
  },
  {
   "cell_type": "code",
   "execution_count": null,
   "id": "4eeb227e",
   "metadata": {},
   "outputs": [],
   "source": [
    "# Create a pipeline that: \n",
    "# 1. Matches establishments with a hygiene score of 0\n",
    "# 2. Groups the matches by Local Authority\n",
    "# 3. Sorts the matches from highest to lowest\n",
    "pipeline = [\n",
    "    {\"$match\": {\"hygiene\": 0}},\n",
    "    {\"$group\": {\"_id\": \"$LocalAuthorityName\", \"count\": {\"$sum\": 1}}},\n",
    "    {\"$sort\": {\"count\": -1}}\n",
    "]\n",
    "\n",
    "# Print the number of documents in the result\n",
    "results = collection.aggregate(pipeline)\n",
    "results = list(results)\n",
    "print(f\"Number of documents: {len(results)}\")\n",
    "\n",
    "# Print the first 10 results\n",
    "for result in results[:10]:\n",
    "    print(f\"{result['_id']}: {result['count']}\")\n",
    "    "
   ]
  },
  {
   "cell_type": "code",
   "execution_count": null,
   "id": "d8aab364",
   "metadata": {},
   "outputs": [],
   "source": [
    "# Convert the result to a Pandas DataFrame\n",
    "df = pd.DataFrame(results)\n",
    "\n",
    "# Display the number of rows in the DataFrame\n",
    "print(f\"Number of rows: {len(df)}\")\n",
    "\n",
    "# Display the first 10 rows of the DataFrame\n",
    "print(df.head(10))"
   ]
  }
 ],
 "metadata": {
  "kernelspec": {
   "display_name": "Python 3 (ipykernel)",
   "language": "python",
   "name": "python3"
  },
  "language_info": {
   "codemirror_mode": {
    "name": "ipython",
    "version": 3
   },
   "file_extension": ".py",
   "mimetype": "text/x-python",
   "name": "python",
   "nbconvert_exporter": "python",
   "pygments_lexer": "ipython3",
   "version": "3.10.10"
  }
 },
 "nbformat": 4,
 "nbformat_minor": 5
}
